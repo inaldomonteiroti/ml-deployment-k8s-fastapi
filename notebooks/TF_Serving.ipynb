{
  "cells": [
    {
      "cell_type": "markdown",
      "metadata": {
        "id": "6FvzT_HQXz9J"
      },
      "source": [
        "# Verifying workable TF Serving\n",
        "\n",
        "This tutorial shows:\n",
        "- how to run TF Serving for a custom model in Docker container\n",
        "- how to request for predictions via both gRPC and RestAPI calls\n",
        "- the prediction timing result from TF Serving"
      ]
    },
    {
      "cell_type": "markdown",
      "metadata": {
        "id": "Com8Mcu2Xz9L"
      },
      "source": [
        "### Imports"
      ]
    },
    {
      "cell_type": "code",
      "source": [
        "!pip install -q requests\n",
        "!pip install -q tensorflow-serving-api"
      ],
      "metadata": {
        "id": "b-aGIWy8c2Ht"
      },
      "execution_count": null,
      "outputs": []
    },
    {
      "cell_type": "code",
      "execution_count": 1,
      "metadata": {
        "id": "6lQVylcMXz9N"
      },
      "outputs": [],
      "source": [
        "import os\n",
        "import tempfile\n",
        "import pandas as pd\n",
        "import tensorflow as tf\n",
        "import numpy as np\n",
        "import json\n",
        "import requests\n",
        "\n",
        "# gRPC request specific imports\n",
        "import grpc\n",
        "from tensorflow_serving.apis import predict_pb2\n",
        "from tensorflow_serving.apis import prediction_service_pb2_grpc"
      ]
    },
    {
      "cell_type": "markdown",
      "source": [
        "## Model"
      ],
      "metadata": {
        "id": "GoIj2728pLyw"
      }
    },
    {
      "cell_type": "markdown",
      "metadata": {
        "id": "3xmYCIWpXz9N"
      },
      "source": [
        "### Get a sample model "
      ]
    },
    {
      "cell_type": "code",
      "execution_count": 2,
      "metadata": {
        "colab": {
          "base_uri": "https://localhost:8080/"
        },
        "id": "VysQtJQnXz9O",
        "outputId": "d140b4e7-c31d-48ef-a211-743f3641b4fa"
      },
      "outputs": [
        {
          "output_type": "stream",
          "name": "stdout",
          "text": [
            "Downloading data from https://storage.googleapis.com/tensorflow/keras-applications/resnet/resnet50_weights_tf_dim_ordering_tf_kernels.h5\n",
            "102973440/102967424 [==============================] - 1s 0us/step\n",
            "102981632/102967424 [==============================] - 1s 0us/step\n"
          ]
        }
      ],
      "source": [
        "core = tf.keras.applications.ResNet50(include_top=True, input_shape=(224, 224, 3))\n",
        "\n",
        "inputs = tf.keras.layers.Input(shape=(224, 224, 3), name=\"image_input\")\n",
        "preprocess = tf.keras.applications.resnet50.preprocess_input(inputs)\n",
        "outputs = core(preprocess, training=False)\n",
        "model = tf.keras.Model(inputs=[inputs], outputs=[outputs])"
      ]
    },
    {
      "cell_type": "markdown",
      "metadata": {
        "id": "p3bC--0GXz9O"
      },
      "source": [
        "### Save the model"
      ]
    },
    {
      "cell_type": "code",
      "execution_count": 4,
      "metadata": {
        "colab": {
          "base_uri": "https://localhost:8080/"
        },
        "id": "z9AmyovhXz9O",
        "outputId": "7160d309-2392-4b9f-ea8a-85a9f721670f"
      },
      "outputs": [
        {
          "output_type": "stream",
          "name": "stdout",
          "text": [
            "export_path = /tmp/1\n",
            "\n",
            "WARNING:tensorflow:Compiled the loaded model, but the compiled metrics have yet to be built. `model.compile_metrics` will be empty until you train or evaluate the model.\n",
            "INFO:tensorflow:Assets written to: /tmp/1/assets\n",
            "\n",
            "Saved model:\n",
            "total 4040\n",
            "drwxr-xr-x 2 root root    4096 Mar 23 01:25 assets\n",
            "-rw-r--r-- 1 root root  557217 Mar 23 01:25 keras_metadata.pb\n",
            "-rw-r--r-- 1 root root 3565545 Mar 23 01:25 saved_model.pb\n",
            "drwxr-xr-x 2 root root    4096 Mar 23 01:25 variables\n"
          ]
        }
      ],
      "source": [
        "MODEL_DIR = tempfile.gettempdir()\n",
        "version = 1\n",
        "export_path = os.path.join(MODEL_DIR, str(version))\n",
        "print('export_path = {}\\n'.format(export_path))\n",
        "\n",
        "tf.keras.models.save_model(\n",
        "    model,\n",
        "    export_path,\n",
        "    overwrite=True,\n",
        "    include_optimizer=True,\n",
        "    save_format=None,\n",
        "    signatures=None,\n",
        "    options=None\n",
        ")\n",
        "\n",
        "print('\\nSaved model:')\n",
        "!ls -l {export_path}"
      ]
    },
    {
      "cell_type": "markdown",
      "metadata": {
        "id": "VV7onOD2Xz9P"
      },
      "source": [
        "### Examine your saved model"
      ]
    },
    {
      "cell_type": "markdown",
      "source": [
        "Notice from `signature_def['serving_default']:` \n",
        "- the input name is `image_input`\n",
        "- the output name is `resnet50`\n",
        "\n",
        "You need to know these to make requests to the TF Serving server later"
      ],
      "metadata": {
        "id": "baanYnt8ohM7"
      }
    },
    {
      "cell_type": "code",
      "execution_count": 5,
      "metadata": {
        "colab": {
          "base_uri": "https://localhost:8080/"
        },
        "id": "Lgzz06XoXz9Q",
        "outputId": "f78b1898-8dd9-4345-e3ed-8276994ff8c5"
      },
      "outputs": [
        {
          "output_type": "stream",
          "name": "stdout",
          "text": [
            "\n",
            "MetaGraphDef with tag-set: 'serve' contains the following SignatureDefs:\n",
            "\n",
            "signature_def['__saved_model_init_op']:\n",
            "  The given SavedModel SignatureDef contains the following input(s):\n",
            "  The given SavedModel SignatureDef contains the following output(s):\n",
            "    outputs['__saved_model_init_op'] tensor_info:\n",
            "        dtype: DT_INVALID\n",
            "        shape: unknown_rank\n",
            "        name: NoOp\n",
            "  Method name is: \n",
            "\n",
            "signature_def['serving_default']:\n",
            "  The given SavedModel SignatureDef contains the following input(s):\n",
            "    inputs['image_input'] tensor_info:\n",
            "        dtype: DT_FLOAT\n",
            "        shape: (-1, 224, 224, 3)\n",
            "        name: serving_default_image_input:0\n",
            "  The given SavedModel SignatureDef contains the following output(s):\n",
            "    outputs['resnet50'] tensor_info:\n",
            "        dtype: DT_FLOAT\n",
            "        shape: (-1, 1000)\n",
            "        name: StatefulPartitionedCall:0\n",
            "  Method name is: tensorflow/serving/predict\n",
            "\n",
            "Concrete Functions:\n",
            "  Function Name: '__call__'\n",
            "    Option #1\n",
            "      Callable with:\n",
            "        Argument #1\n",
            "          inputs: TensorSpec(shape=(None, 224, 224, 3), dtype=tf.float32, name='inputs')\n",
            "        Argument #2\n",
            "          DType: bool\n",
            "          Value: False\n",
            "        Argument #3\n",
            "          DType: NoneType\n",
            "          Value: None\n",
            "    Option #2\n",
            "      Callable with:\n",
            "        Argument #1\n",
            "          image_input: TensorSpec(shape=(None, 224, 224, 3), dtype=tf.float32, name='image_input')\n",
            "        Argument #2\n",
            "          DType: bool\n",
            "          Value: False\n",
            "        Argument #3\n",
            "          DType: NoneType\n",
            "          Value: None\n",
            "    Option #3\n",
            "      Callable with:\n",
            "        Argument #1\n",
            "          inputs: TensorSpec(shape=(None, 224, 224, 3), dtype=tf.float32, name='inputs')\n",
            "        Argument #2\n",
            "          DType: bool\n",
            "          Value: True\n",
            "        Argument #3\n",
            "          DType: NoneType\n",
            "          Value: None\n",
            "    Option #4\n",
            "      Callable with:\n",
            "        Argument #1\n",
            "          image_input: TensorSpec(shape=(None, 224, 224, 3), dtype=tf.float32, name='image_input')\n",
            "        Argument #2\n",
            "          DType: bool\n",
            "          Value: True\n",
            "        Argument #3\n",
            "          DType: NoneType\n",
            "          Value: None\n",
            "\n",
            "  Function Name: '_default_save_signature'\n",
            "    Option #1\n",
            "      Callable with:\n",
            "        Argument #1\n",
            "          image_input: TensorSpec(shape=(None, 224, 224, 3), dtype=tf.float32, name='image_input')\n",
            "\n",
            "  Function Name: 'call_and_return_all_conditional_losses'\n",
            "    Option #1\n",
            "      Callable with:\n",
            "        Argument #1\n",
            "          image_input: TensorSpec(shape=(None, 224, 224, 3), dtype=tf.float32, name='image_input')\n",
            "        Argument #2\n",
            "          DType: bool\n",
            "          Value: True\n",
            "        Argument #3\n",
            "          DType: NoneType\n",
            "          Value: None\n",
            "    Option #2\n",
            "      Callable with:\n",
            "        Argument #1\n",
            "          image_input: TensorSpec(shape=(None, 224, 224, 3), dtype=tf.float32, name='image_input')\n",
            "        Argument #2\n",
            "          DType: bool\n",
            "          Value: False\n",
            "        Argument #3\n",
            "          DType: NoneType\n",
            "          Value: None\n",
            "    Option #3\n",
            "      Callable with:\n",
            "        Argument #1\n",
            "          inputs: TensorSpec(shape=(None, 224, 224, 3), dtype=tf.float32, name='inputs')\n",
            "        Argument #2\n",
            "          DType: bool\n",
            "          Value: True\n",
            "        Argument #3\n",
            "          DType: NoneType\n",
            "          Value: None\n",
            "    Option #4\n",
            "      Callable with:\n",
            "        Argument #1\n",
            "          inputs: TensorSpec(shape=(None, 224, 224, 3), dtype=tf.float32, name='inputs')\n",
            "        Argument #2\n",
            "          DType: bool\n",
            "          Value: False\n",
            "        Argument #3\n",
            "          DType: NoneType\n",
            "          Value: None\n"
          ]
        }
      ],
      "source": [
        "!saved_model_cli show --dir {export_path} --all"
      ]
    },
    {
      "cell_type": "markdown",
      "metadata": {
        "id": "5NBTdC7jXz9Q"
      },
      "source": [
        "## TF Serving"
      ]
    },
    {
      "cell_type": "markdown",
      "source": [
        "### Create dummy data"
      ],
      "metadata": {
        "id": "g4G_oWb_plDI"
      }
    },
    {
      "cell_type": "code",
      "execution_count": 68,
      "metadata": {
        "colab": {
          "base_uri": "https://localhost:8080/"
        },
        "id": "loMcfbfTXz9S",
        "outputId": "8a889561-c3dc-4647-9b39-9786ccf801c8"
      },
      "outputs": [
        {
          "output_type": "execute_result",
          "data": {
            "text/plain": [
              "TensorShape([32, 224, 224, 3])"
            ]
          },
          "metadata": {},
          "execution_count": 68
        }
      ],
      "source": [
        "dummy_inputs = tf.random.normal((32, 224, 224, 3))\n",
        "dummy_inputs.shape"
      ]
    },
    {
      "cell_type": "markdown",
      "source": [
        "### Install TF Serving tool"
      ],
      "metadata": {
        "id": "ZBxKquAwpCEh"
      }
    },
    {
      "cell_type": "code",
      "execution_count": null,
      "metadata": {
        "id": "mDVz8VnnXz9Q"
      },
      "outputs": [],
      "source": [
        "!echo \"deb http://storage.googleapis.com/tensorflow-serving-apt stable tensorflow-model-server tensorflow-model-server-universal\" | {SUDO_IF_NEEDED} tee /etc/apt/sources.list.d/tensorflow-serving.list && \\\n",
        "curl https://storage.googleapis.com/tensorflow-serving-apt/tensorflow-serving.release.pub.gpg | {SUDO_IF_NEEDED} apt-key add -\n",
        "!apt update"
      ]
    },
    {
      "cell_type": "code",
      "execution_count": null,
      "metadata": {
        "id": "zSFmRRf2Xz9R"
      },
      "outputs": [],
      "source": [
        "!apt-get install tensorflow-model-server"
      ]
    },
    {
      "cell_type": "markdown",
      "source": [
        "### Run TF Serving server"
      ],
      "metadata": {
        "id": "jn9oNYM7pYcv"
      }
    },
    {
      "cell_type": "code",
      "execution_count": 9,
      "metadata": {
        "id": "MH-RScSvXz9R"
      },
      "outputs": [],
      "source": [
        "os.environ[\"MODEL_DIR\"] = MODEL_DIR"
      ]
    },
    {
      "cell_type": "code",
      "execution_count": 10,
      "metadata": {
        "id": "Mq4t5ozVXz9R"
      },
      "outputs": [],
      "source": [
        "!nohup tensorflow_model_server \\\n",
        "  --rest_api_port=8501 \\\n",
        "  --model_name=resnet_model \\\n",
        "  --model_base_path=$MODEL_DIR >server.log 2>&1 &\n",
        "\n",
        "# --enable_model_warmup for warmup(https://www.tensorflow.org/tfx/serving/saved_model_warmup)"
      ]
    },
    {
      "cell_type": "code",
      "execution_count": 46,
      "metadata": {
        "colab": {
          "base_uri": "https://localhost:8080/"
        },
        "id": "PVhTO53jXz9S",
        "outputId": "b9c834ca-5cb2-454f-d3ec-6a58692cf1e1"
      },
      "outputs": [
        {
          "output_type": "stream",
          "name": "stdout",
          "text": [
            "[warn] getaddrinfo: address family for nodename not supported\n",
            "[evhttp_server.cc : 245] NET_LOG: Entering the event loop ...\n"
          ]
        }
      ],
      "source": [
        "!cat server.log"
      ]
    },
    {
      "cell_type": "code",
      "source": [
        "!sudo lsof -i -P -n | grep LISTEN"
      ],
      "metadata": {
        "colab": {
          "base_uri": "https://localhost:8080/"
        },
        "id": "KumZ3xB4giEa",
        "outputId": "416ecc38-6f49-4068-e687-3aa387ef5e67"
      },
      "execution_count": 47,
      "outputs": [
        {
          "output_type": "stream",
          "name": "stdout",
          "text": [
            "node         7 root   21u  IPv6  25571      0t0  TCP *:8080 (LISTEN)\n",
            "colab-fil   29 root    5u  IPv6  25979      0t0  TCP *:3453 (LISTEN)\n",
            "colab-fil   29 root    6u  IPv4  25980      0t0  TCP *:3453 (LISTEN)\n",
            "jupyter-n   42 root    6u  IPv4  26715      0t0  TCP 172.28.0.2:9000 (LISTEN)\n",
            "python3     60 root   15u  IPv4  29022      0t0  TCP 127.0.0.1:39987 (LISTEN)\n",
            "python3     60 root   18u  IPv4  29026      0t0  TCP 127.0.0.1:36549 (LISTEN)\n",
            "python3     60 root   21u  IPv4  29030      0t0  TCP 127.0.0.1:50817 (LISTEN)\n",
            "python3     60 root   24u  IPv4  29034      0t0  TCP 127.0.0.1:53273 (LISTEN)\n",
            "python3     60 root   30u  IPv4  29040      0t0  TCP 127.0.0.1:36879 (LISTEN)\n",
            "python3     60 root   43u  IPv4  28245      0t0  TCP 127.0.0.1:33513 (LISTEN)\n",
            "python3     80 root    3u  IPv4  29514      0t0  TCP 127.0.0.1:21925 (LISTEN)\n",
            "python3     80 root    5u  IPv4  28630      0t0  TCP 127.0.0.1:45169 (LISTEN)\n",
            "python3     80 root    9u  IPv4  29828      0t0  TCP 127.0.0.1:44481 (LISTEN)\n",
            "tensorflo 1460 root    5u  IPv4  42970      0t0  TCP *:8500 (LISTEN)\n",
            "tensorflo 1460 root   12u  IPv4  42975      0t0  TCP *:8501 (LISTEN)\n"
          ]
        }
      ]
    },
    {
      "cell_type": "markdown",
      "source": [
        "## RestAPI request"
      ],
      "metadata": {
        "id": "mvHRnTmppqn9"
      }
    },
    {
      "cell_type": "markdown",
      "source": [
        "### Convert dummy data in JSON format"
      ],
      "metadata": {
        "id": "1QNMoU3qq2fN"
      }
    },
    {
      "cell_type": "code",
      "execution_count": 69,
      "metadata": {
        "colab": {
          "base_uri": "https://localhost:8080/"
        },
        "id": "xDw6gT7lXz9S",
        "outputId": "a4b1398c-906e-4e8a-a7b2-b54994a5b5fa"
      },
      "outputs": [
        {
          "output_type": "stream",
          "name": "stdout",
          "text": [
            "Data: {\"signature_name\": \"serving_default\", \"instances\": ... 87132263, -1.264892816543579, 1.081931710243225]]]]}\n"
          ]
        }
      ],
      "source": [
        "data = json.dumps({\"signature_name\": \"serving_default\", \"instances\": dummy_inputs.numpy().tolist()})\n",
        "print('Data: {} ... {}'.format(data[:50], data[len(data)-52:]))"
      ]
    },
    {
      "cell_type": "markdown",
      "source": [
        "### Make a request"
      ],
      "metadata": {
        "id": "hzlArynZq-dF"
      }
    },
    {
      "cell_type": "code",
      "execution_count": 70,
      "metadata": {
        "id": "hh6vmxqnXz9T"
      },
      "outputs": [],
      "source": [
        "headers = {\"content-type\": \"application/json\"}"
      ]
    },
    {
      "cell_type": "code",
      "source": [
        "%%timeit\n",
        "json_response = requests.post('http://localhost:8501/v1/models/resnet_model:predict', data=data, headers=headers)"
      ],
      "metadata": {
        "colab": {
          "base_uri": "https://localhost:8080/"
        },
        "id": "fS_DI5QpdZTg",
        "outputId": "0a75e214-212d-4d97-e7bb-612203f9f5dd"
      },
      "execution_count": 71,
      "outputs": [
        {
          "output_type": "stream",
          "name": "stdout",
          "text": [
            "1 loop, best of 5: 5.91 s per loop\n"
          ]
        }
      ]
    },
    {
      "cell_type": "markdown",
      "source": [
        "### Interpret the output"
      ],
      "metadata": {
        "id": "_n8urXddrJp0"
      }
    },
    {
      "cell_type": "code",
      "execution_count": 96,
      "metadata": {
        "colab": {
          "base_uri": "https://localhost:8080/"
        },
        "id": "brI4TCETXz9T",
        "outputId": "a8b470fb-56fd-43fd-d4ef-1dd97ab063d5"
      },
      "outputs": [
        {
          "output_type": "stream",
          "name": "stdout",
          "text": [
            "Prediction class: [851 664 664 664 664 664 664 664 664 664 664 664 664 664 664 664 851 664\n",
            " 664 664 664 664 664 664 664 664 664 851 664 664 664 664]\n"
          ]
        }
      ],
      "source": [
        "predictions = json.loads(json_response.text)['predictions']\n",
        "print('Prediction class: {}'.format(np.argmax(predictions, axis=-1)))"
      ]
    },
    {
      "cell_type": "markdown",
      "source": [
        "## gRPC request"
      ],
      "metadata": {
        "id": "lwuaqGVud58k"
      }
    },
    {
      "cell_type": "markdown",
      "source": [
        "### Open up gRPC channel"
      ],
      "metadata": {
        "id": "yr7vO8BQrP2S"
      }
    },
    {
      "cell_type": "code",
      "source": [
        "channel = grpc.insecure_channel('localhost:8500')\n",
        "stub = prediction_service_pb2_grpc.PredictionServiceStub(channel)"
      ],
      "metadata": {
        "id": "Y1cxieBDfyjK"
      },
      "execution_count": 39,
      "outputs": []
    },
    {
      "cell_type": "markdown",
      "source": [
        "### Prepare a request"
      ],
      "metadata": {
        "id": "fS5b0VVfrTmF"
      }
    },
    {
      "cell_type": "code",
      "source": [
        "request = predict_pb2.PredictRequest()\n",
        "request.model_spec.name = 'resnet_model'\n",
        "request.model_spec.signature_name = 'serving_default'\n",
        "request.inputs['image_input'].CopyFrom(\n",
        "    tf.make_tensor_proto(dummy_inputs)) #, shape=[32,224,224,3]))"
      ],
      "metadata": {
        "id": "2QD8xK47emy5"
      },
      "execution_count": 99,
      "outputs": []
    },
    {
      "cell_type": "markdown",
      "source": [
        "### Make a request"
      ],
      "metadata": {
        "id": "7UztXjZGrYTf"
      }
    },
    {
      "cell_type": "code",
      "source": [
        "%%timeit\n",
        "result = stub.Predict(request, 10.0)  # 10 secs timeout"
      ],
      "metadata": {
        "colab": {
          "base_uri": "https://localhost:8080/"
        },
        "id": "wvslcT5_f4P6",
        "outputId": "7f110776-c513-46ae-dbad-c441597be926"
      },
      "execution_count": 100,
      "outputs": [
        {
          "output_type": "stream",
          "name": "stdout",
          "text": [
            "1 loop, best of 5: 5.05 s per loop\n"
          ]
        }
      ]
    },
    {
      "cell_type": "markdown",
      "source": [
        "### Interpret the output"
      ],
      "metadata": {
        "id": "o52MnidprdCY"
      }
    },
    {
      "cell_type": "code",
      "source": [
        "result_val = result.outputs['resnet50'].float_val\n",
        "result_val = np.array(result_val).reshape(32, -1)\n",
        "print('Prediction class: {}'.format(np.argmax(result_val, axis=-1)))"
      ],
      "metadata": {
        "colab": {
          "base_uri": "https://localhost:8080/"
        },
        "id": "TBfd4TG0f5z6",
        "outputId": "5557cd52-64dd-44ef-d073-45ee0447323c"
      },
      "execution_count": 101,
      "outputs": [
        {
          "output_type": "stream",
          "name": "stdout",
          "text": [
            "Prediction class: [664 664 664 664 664 664 664 664 664 664 664 664 664 664 664 851 664 664\n",
            " 664 664 664 664 664 664 664 664 664 664 664 664 664 664]\n"
          ]
        }
      ]
    },
    {
      "cell_type": "code",
      "source": [
        ""
      ],
      "metadata": {
        "id": "UA4iKEcpioc8"
      },
      "execution_count": null,
      "outputs": []
    }
  ],
  "metadata": {
    "interpreter": {
      "hash": "626869861cd3ed4fdbaf755d0ab61c53ee2a93056f2b69c4f7170d3cc24dc5ea"
    },
    "kernelspec": {
      "display_name": "Python 3.8.12 ('.venv': venv)",
      "language": "python",
      "name": "python3"
    },
    "language_info": {
      "codemirror_mode": {
        "name": "ipython",
        "version": 3
      },
      "file_extension": ".py",
      "mimetype": "text/x-python",
      "name": "python",
      "nbconvert_exporter": "python",
      "pygments_lexer": "ipython3",
      "version": "3.8.12"
    },
    "orig_nbformat": 4,
    "colab": {
      "name": "TF_Serving.ipynb",
      "provenance": [],
      "collapsed_sections": [],
      "toc_visible": true
    }
  },
  "nbformat": 4,
  "nbformat_minor": 0
}